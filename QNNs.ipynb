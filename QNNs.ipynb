{
 "cells": [
  {
   "cell_type": "markdown",
   "source": [
    "<h1>Desbloqueando el poder de las redes neurolaes cuanticas</h1>\n",
    "<h2>Introduccion</h2>\n",
    "<p>Bienvenidos a la presentancion acerca de redes neuronales cuanticas. Exploraremos como esta tecnologia esta desbloqueando el poder de la computacion cuantica</p>"
   ],
   "metadata": {
    "collapsed": false
   },
   "id": "396e64bd876ca59e"
  },
  {
   "cell_type": "code",
   "execution_count": 1,
   "id": "initial_id",
   "metadata": {
    "collapsed": true,
    "ExecuteTime": {
     "end_time": "2023-08-16T16:49:17.209833600Z",
     "start_time": "2023-08-16T16:49:17.198323300Z"
    }
   },
   "outputs": [
    {
     "ename": "SyntaxError",
     "evalue": "invalid syntax (2211937121.py, line 1)",
     "output_type": "error",
     "traceback": [
      "\u001B[1;36m  Cell \u001B[1;32mIn[1], line 1\u001B[1;36m\u001B[0m\n\u001B[1;33m    <h1>Desbloqueando el poder de las redes neurolaes cuanticas</h1>\u001B[0m\n\u001B[1;37m    ^\u001B[0m\n\u001B[1;31mSyntaxError\u001B[0m\u001B[1;31m:\u001B[0m invalid syntax\n"
     ]
    }
   ],
   "source": []
  },
  {
   "cell_type": "code",
   "execution_count": null,
   "outputs": [],
   "source": [],
   "metadata": {
    "collapsed": false
   },
   "id": "68d42b51085b122c"
  },
  {
   "cell_type": "markdown",
   "source": [],
   "metadata": {
    "collapsed": false
   },
   "id": "af61d195e018e83a"
  }
 ],
 "metadata": {
  "kernelspec": {
   "display_name": "Python 3",
   "language": "python",
   "name": "python3"
  },
  "language_info": {
   "codemirror_mode": {
    "name": "ipython",
    "version": 2
   },
   "file_extension": ".py",
   "mimetype": "text/x-python",
   "name": "python",
   "nbconvert_exporter": "python",
   "pygments_lexer": "ipython2",
   "version": "2.7.6"
  }
 },
 "nbformat": 4,
 "nbformat_minor": 5
}

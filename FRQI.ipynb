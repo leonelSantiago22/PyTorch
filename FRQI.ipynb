{
 "cells": [
  {
   "cell_type": "code",
   "execution_count": 14,
   "outputs": [
    {
     "name": "stdout",
     "output_type": "stream",
     "text": [
      "Requirement already satisfied: opencv-python in c:\\users\\leonel\\anaconda3\\lib\\site-packages (4.8.0.76)\n",
      "Requirement already satisfied: numpy>=1.21.2 in c:\\users\\leonel\\anaconda3\\lib\\site-packages (from opencv-python) (1.24.3)\n",
      "Note: you may need to restart the kernel to use updated packages.\n"
     ]
    }
   ],
   "source": [
    "pip install opencv-python"
   ],
   "metadata": {
    "collapsed": false,
    "ExecuteTime": {
     "end_time": "2023-08-29T16:10:03.080812900Z",
     "start_time": "2023-08-29T16:09:55.791738600Z"
    }
   },
   "id": "79e27e2a17720aa8"
  },
  {
   "cell_type": "code",
   "execution_count": 15,
   "outputs": [
    {
     "name": "stdout",
     "output_type": "stream",
     "text": [
      "Requirement already satisfied: tensorflow in c:\\users\\leonel\\anaconda3\\lib\\site-packages (2.13.0)\n",
      "Requirement already satisfied: tensorflow-intel==2.13.0 in c:\\users\\leonel\\anaconda3\\lib\\site-packages (from tensorflow) (2.13.0)\n",
      "Requirement already satisfied: absl-py>=1.0.0 in c:\\users\\leonel\\anaconda3\\lib\\site-packages (from tensorflow-intel==2.13.0->tensorflow) (1.4.0)\n",
      "Requirement already satisfied: astunparse>=1.6.0 in c:\\users\\leonel\\anaconda3\\lib\\site-packages (from tensorflow-intel==2.13.0->tensorflow) (1.6.3)\n",
      "Requirement already satisfied: flatbuffers>=23.1.21 in c:\\users\\leonel\\anaconda3\\lib\\site-packages (from tensorflow-intel==2.13.0->tensorflow) (23.5.26)\n",
      "Requirement already satisfied: gast<=0.4.0,>=0.2.1 in c:\\users\\leonel\\anaconda3\\lib\\site-packages (from tensorflow-intel==2.13.0->tensorflow) (0.4.0)\n",
      "Requirement already satisfied: google-pasta>=0.1.1 in c:\\users\\leonel\\anaconda3\\lib\\site-packages (from tensorflow-intel==2.13.0->tensorflow) (0.2.0)\n",
      "Requirement already satisfied: h5py>=2.9.0 in c:\\users\\leonel\\appdata\\roaming\\python\\python311\\site-packages (from tensorflow-intel==2.13.0->tensorflow) (3.9.0)\n",
      "Requirement already satisfied: libclang>=13.0.0 in c:\\users\\leonel\\anaconda3\\lib\\site-packages (from tensorflow-intel==2.13.0->tensorflow) (16.0.6)\n",
      "Requirement already satisfied: numpy<=1.24.3,>=1.22 in c:\\users\\leonel\\anaconda3\\lib\\site-packages (from tensorflow-intel==2.13.0->tensorflow) (1.24.3)\n",
      "Requirement already satisfied: opt-einsum>=2.3.2 in c:\\users\\leonel\\anaconda3\\lib\\site-packages (from tensorflow-intel==2.13.0->tensorflow) (3.3.0)\n",
      "Requirement already satisfied: packaging in c:\\users\\leonel\\anaconda3\\lib\\site-packages (from tensorflow-intel==2.13.0->tensorflow) (23.0)\n",
      "Requirement already satisfied: protobuf!=4.21.0,!=4.21.1,!=4.21.2,!=4.21.3,!=4.21.4,!=4.21.5,<5.0.0dev,>=3.20.3 in c:\\users\\leonel\\anaconda3\\lib\\site-packages (from tensorflow-intel==2.13.0->tensorflow) (4.24.2)\n",
      "Requirement already satisfied: setuptools in c:\\users\\leonel\\anaconda3\\lib\\site-packages (from tensorflow-intel==2.13.0->tensorflow) (67.8.0)\n",
      "Requirement already satisfied: six>=1.12.0 in c:\\users\\leonel\\anaconda3\\lib\\site-packages (from tensorflow-intel==2.13.0->tensorflow) (1.16.0)\n",
      "Requirement already satisfied: termcolor>=1.1.0 in c:\\users\\leonel\\anaconda3\\lib\\site-packages (from tensorflow-intel==2.13.0->tensorflow) (2.3.0)\n",
      "Requirement already satisfied: typing-extensions<4.6.0,>=3.6.6 in c:\\users\\leonel\\anaconda3\\lib\\site-packages (from tensorflow-intel==2.13.0->tensorflow) (4.5.0)\n",
      "Requirement already satisfied: wrapt>=1.11.0 in c:\\users\\leonel\\anaconda3\\lib\\site-packages (from tensorflow-intel==2.13.0->tensorflow) (1.14.1)\n",
      "Requirement already satisfied: grpcio<2.0,>=1.24.3 in c:\\users\\leonel\\anaconda3\\lib\\site-packages (from tensorflow-intel==2.13.0->tensorflow) (1.57.0)\n",
      "Requirement already satisfied: tensorboard<2.14,>=2.13 in c:\\users\\leonel\\anaconda3\\lib\\site-packages (from tensorflow-intel==2.13.0->tensorflow) (2.13.0)\n",
      "Requirement already satisfied: tensorflow-estimator<2.14,>=2.13.0 in c:\\users\\leonel\\anaconda3\\lib\\site-packages (from tensorflow-intel==2.13.0->tensorflow) (2.13.0)\n",
      "Requirement already satisfied: keras<2.14,>=2.13.1 in c:\\users\\leonel\\anaconda3\\lib\\site-packages (from tensorflow-intel==2.13.0->tensorflow) (2.13.1)\n",
      "Requirement already satisfied: tensorflow-io-gcs-filesystem>=0.23.1 in c:\\users\\leonel\\anaconda3\\lib\\site-packages (from tensorflow-intel==2.13.0->tensorflow) (0.31.0)\n",
      "Requirement already satisfied: wheel<1.0,>=0.23.0 in c:\\users\\leonel\\anaconda3\\lib\\site-packages (from astunparse>=1.6.0->tensorflow-intel==2.13.0->tensorflow) (0.38.4)\n",
      "Requirement already satisfied: google-auth<3,>=1.6.3 in c:\\users\\leonel\\anaconda3\\lib\\site-packages (from tensorboard<2.14,>=2.13->tensorflow-intel==2.13.0->tensorflow) (2.22.0)\n",
      "Requirement already satisfied: google-auth-oauthlib<1.1,>=0.5 in c:\\users\\leonel\\anaconda3\\lib\\site-packages (from tensorboard<2.14,>=2.13->tensorflow-intel==2.13.0->tensorflow) (1.0.0)\n",
      "Requirement already satisfied: markdown>=2.6.8 in c:\\users\\leonel\\anaconda3\\lib\\site-packages (from tensorboard<2.14,>=2.13->tensorflow-intel==2.13.0->tensorflow) (3.4.1)\n",
      "Requirement already satisfied: requests<3,>=2.21.0 in c:\\users\\leonel\\appdata\\roaming\\python\\python311\\site-packages (from tensorboard<2.14,>=2.13->tensorflow-intel==2.13.0->tensorflow) (2.31.0)\n",
      "Requirement already satisfied: tensorboard-data-server<0.8.0,>=0.7.0 in c:\\users\\leonel\\anaconda3\\lib\\site-packages (from tensorboard<2.14,>=2.13->tensorflow-intel==2.13.0->tensorflow) (0.7.1)\n",
      "Requirement already satisfied: werkzeug>=1.0.1 in c:\\users\\leonel\\anaconda3\\lib\\site-packages (from tensorboard<2.14,>=2.13->tensorflow-intel==2.13.0->tensorflow) (2.2.3)\n",
      "Requirement already satisfied: cachetools<6.0,>=2.0.0 in c:\\users\\leonel\\anaconda3\\lib\\site-packages (from google-auth<3,>=1.6.3->tensorboard<2.14,>=2.13->tensorflow-intel==2.13.0->tensorflow) (5.3.1)\n",
      "Requirement already satisfied: pyasn1-modules>=0.2.1 in c:\\users\\leonel\\anaconda3\\lib\\site-packages (from google-auth<3,>=1.6.3->tensorboard<2.14,>=2.13->tensorflow-intel==2.13.0->tensorflow) (0.2.8)\n",
      "Requirement already satisfied: rsa<5,>=3.1.4 in c:\\users\\leonel\\anaconda3\\lib\\site-packages (from google-auth<3,>=1.6.3->tensorboard<2.14,>=2.13->tensorflow-intel==2.13.0->tensorflow) (4.9)\n",
      "Requirement already satisfied: urllib3<2.0 in c:\\users\\leonel\\appdata\\roaming\\python\\python311\\site-packages (from google-auth<3,>=1.6.3->tensorboard<2.14,>=2.13->tensorflow-intel==2.13.0->tensorflow) (1.26.16)\n",
      "Requirement already satisfied: requests-oauthlib>=0.7.0 in c:\\users\\leonel\\anaconda3\\lib\\site-packages (from google-auth-oauthlib<1.1,>=0.5->tensorboard<2.14,>=2.13->tensorflow-intel==2.13.0->tensorflow) (1.3.1)\n",
      "Requirement already satisfied: charset-normalizer<4,>=2 in c:\\users\\leonel\\appdata\\roaming\\python\\python311\\site-packages (from requests<3,>=2.21.0->tensorboard<2.14,>=2.13->tensorflow-intel==2.13.0->tensorflow) (3.2.0)\n",
      "Requirement already satisfied: idna<4,>=2.5 in c:\\users\\leonel\\appdata\\roaming\\python\\python311\\site-packages (from requests<3,>=2.21.0->tensorboard<2.14,>=2.13->tensorflow-intel==2.13.0->tensorflow) (3.4)\n",
      "Requirement already satisfied: certifi>=2017.4.17 in c:\\users\\leonel\\appdata\\roaming\\python\\python311\\site-packages (from requests<3,>=2.21.0->tensorboard<2.14,>=2.13->tensorflow-intel==2.13.0->tensorflow) (2023.7.22)\n",
      "Requirement already satisfied: MarkupSafe>=2.1.1 in c:\\users\\leonel\\appdata\\roaming\\python\\python311\\site-packages (from werkzeug>=1.0.1->tensorboard<2.14,>=2.13->tensorflow-intel==2.13.0->tensorflow) (2.1.3)\n",
      "Requirement already satisfied: pyasn1<0.5.0,>=0.4.6 in c:\\users\\leonel\\anaconda3\\lib\\site-packages (from pyasn1-modules>=0.2.1->google-auth<3,>=1.6.3->tensorboard<2.14,>=2.13->tensorflow-intel==2.13.0->tensorflow) (0.4.8)\n",
      "Requirement already satisfied: oauthlib>=3.0.0 in c:\\users\\leonel\\anaconda3\\lib\\site-packages (from requests-oauthlib>=0.7.0->google-auth-oauthlib<1.1,>=0.5->tensorboard<2.14,>=2.13->tensorflow-intel==2.13.0->tensorflow) (3.2.2)\n",
      "Note: you may need to restart the kernel to use updated packages.\n"
     ]
    }
   ],
   "source": [
    "pip install tensorflow"
   ],
   "metadata": {
    "collapsed": false,
    "ExecuteTime": {
     "end_time": "2023-08-29T16:10:10.115820Z",
     "start_time": "2023-08-29T16:10:03.068121600Z"
    }
   },
   "id": "f154eb5841712780"
  },
  {
   "cell_type": "code",
   "execution_count": 16,
   "outputs": [
    {
     "name": "stdout",
     "output_type": "stream",
     "text": [
      "Requirement already satisfied: pylatexenc in c:\\users\\leonel\\appdata\\roaming\\python\\python311\\site-packages (2.10)\n",
      "Note: you may need to restart the kernel to use updated packages.\n"
     ]
    }
   ],
   "source": [
    "pip install pylatexenc"
   ],
   "metadata": {
    "collapsed": false,
    "ExecuteTime": {
     "end_time": "2023-08-29T16:10:16.824237500Z",
     "start_time": "2023-08-29T16:10:10.117647Z"
    }
   },
   "id": "ccf4635726d3d39c"
  },
  {
   "cell_type": "code",
   "execution_count": 17,
   "outputs": [
    {
     "name": "stdout",
     "output_type": "stream",
     "text": [
      "Requirement already satisfied: keras-core in c:\\users\\leonel\\anaconda3\\lib\\site-packages (0.1.5)\n",
      "Requirement already satisfied: absl-py in c:\\users\\leonel\\anaconda3\\lib\\site-packages (from keras-core) (1.4.0)\n",
      "Requirement already satisfied: numpy in c:\\users\\leonel\\anaconda3\\lib\\site-packages (from keras-core) (1.24.3)\n",
      "Requirement already satisfied: rich in c:\\users\\leonel\\anaconda3\\lib\\site-packages (from keras-core) (13.5.2)\n",
      "Requirement already satisfied: namex in c:\\users\\leonel\\anaconda3\\lib\\site-packages (from keras-core) (0.0.7)\n",
      "Requirement already satisfied: h5py in c:\\users\\leonel\\appdata\\roaming\\python\\python311\\site-packages (from keras-core) (3.9.0)\n",
      "Requirement already satisfied: dm-tree in c:\\users\\leonel\\anaconda3\\lib\\site-packages (from keras-core) (0.1.8)\n",
      "Requirement already satisfied: markdown-it-py>=2.2.0 in c:\\users\\leonel\\anaconda3\\lib\\site-packages (from rich->keras-core) (2.2.0)\n",
      "Requirement already satisfied: pygments<3.0.0,>=2.13.0 in c:\\users\\leonel\\appdata\\roaming\\python\\python311\\site-packages (from rich->keras-core) (2.15.1)\n",
      "Requirement already satisfied: mdurl~=0.1 in c:\\users\\leonel\\anaconda3\\lib\\site-packages (from markdown-it-py>=2.2.0->rich->keras-core) (0.1.0)\n",
      "Note: you may need to restart the kernel to use updated packages.\n"
     ]
    }
   ],
   "source": [
    "pip install keras-core"
   ],
   "metadata": {
    "collapsed": false,
    "ExecuteTime": {
     "end_time": "2023-08-29T16:10:23.602069200Z",
     "start_time": "2023-08-29T16:10:16.817226700Z"
    }
   },
   "id": "a66ec99b343bf6f8"
  },
  {
   "cell_type": "markdown",
   "source": [],
   "metadata": {
    "collapsed": false
   },
   "id": "5b8bc47a3fb3db14"
  },
  {
   "cell_type": "code",
   "execution_count": 52,
   "outputs": [
    {
     "name": "stdout",
     "output_type": "stream",
     "text": [
      "Collecting qiskit-aer\n",
      "  Obtaining dependency information for qiskit-aer from https://files.pythonhosted.org/packages/10/3a/09935130dbb72ec4154a067f5611c83ae25eb1af1ff9ffb5e445b33afb33/qiskit_aer-0.12.2-cp311-cp311-win_amd64.whl.metadata\n",
      "  Downloading qiskit_aer-0.12.2-cp311-cp311-win_amd64.whl.metadata (6.5 kB)\n",
      "Requirement already satisfied: qiskit-terra>=0.21.0 in c:\\users\\leonel\\appdata\\roaming\\python\\python311\\site-packages (from qiskit-aer) (0.25.0)\n",
      "Requirement already satisfied: numpy>=1.16.3 in c:\\users\\leonel\\anaconda3\\lib\\site-packages (from qiskit-aer) (1.24.3)\n",
      "Requirement already satisfied: scipy>=1.0 in c:\\users\\leonel\\anaconda3\\lib\\site-packages (from qiskit-aer) (1.10.1)\n",
      "Requirement already satisfied: rustworkx>=0.13.0 in c:\\users\\leonel\\appdata\\roaming\\python\\python311\\site-packages (from qiskit-terra>=0.21.0->qiskit-aer) (0.13.1)\n",
      "Requirement already satisfied: ply>=3.10 in c:\\users\\leonel\\appdata\\roaming\\python\\python311\\site-packages (from qiskit-terra>=0.21.0->qiskit-aer) (3.11)\n",
      "Requirement already satisfied: psutil>=5 in c:\\users\\leonel\\appdata\\roaming\\python\\python311\\site-packages (from qiskit-terra>=0.21.0->qiskit-aer) (5.9.5)\n",
      "Requirement already satisfied: sympy>=1.3 in c:\\users\\leonel\\appdata\\roaming\\python\\python311\\site-packages (from qiskit-terra>=0.21.0->qiskit-aer) (1.12)\n",
      "Requirement already satisfied: dill>=0.3 in c:\\users\\leonel\\appdata\\roaming\\python\\python311\\site-packages (from qiskit-terra>=0.21.0->qiskit-aer) (0.3.7)\n",
      "Requirement already satisfied: python-dateutil>=2.8.0 in c:\\users\\leonel\\appdata\\roaming\\python\\python311\\site-packages (from qiskit-terra>=0.21.0->qiskit-aer) (2.8.2)\n",
      "Requirement already satisfied: stevedore>=3.0.0 in c:\\users\\leonel\\appdata\\roaming\\python\\python311\\site-packages (from qiskit-terra>=0.21.0->qiskit-aer) (5.1.0)\n",
      "Requirement already satisfied: six>=1.5 in c:\\users\\leonel\\anaconda3\\lib\\site-packages (from python-dateutil>=2.8.0->qiskit-terra>=0.21.0->qiskit-aer) (1.16.0)\n",
      "Requirement already satisfied: pbr!=2.1.0,>=2.0.0 in c:\\users\\leonel\\appdata\\roaming\\python\\python311\\site-packages (from stevedore>=3.0.0->qiskit-terra>=0.21.0->qiskit-aer) (5.11.1)\n",
      "Requirement already satisfied: mpmath>=0.19 in c:\\users\\leonel\\anaconda3\\lib\\site-packages (from sympy>=1.3->qiskit-terra>=0.21.0->qiskit-aer) (1.2.1)\n",
      "Downloading qiskit_aer-0.12.2-cp311-cp311-win_amd64.whl (9.6 MB)\n",
      "   ---------------------------------------- 0.0/9.6 MB ? eta -:--:--\n",
      "   ---------------------------------------- 0.0/9.6 MB 1.9 MB/s eta 0:00:05\n",
      "    --------------------------------------- 0.2/9.6 MB 2.3 MB/s eta 0:00:05\n",
      "   -- ------------------------------------- 0.6/9.6 MB 4.9 MB/s eta 0:00:02\n",
      "   ---- ----------------------------------- 1.2/9.6 MB 6.8 MB/s eta 0:00:02\n",
      "   -------- ------------------------------- 2.2/9.6 MB 9.8 MB/s eta 0:00:01\n",
      "   ------------- -------------------------- 3.3/9.6 MB 12.5 MB/s eta 0:00:01\n",
      "   ----------------- ---------------------- 4.1/9.6 MB 13.2 MB/s eta 0:00:01\n",
      "   ----------------- ---------------------- 4.1/9.6 MB 13.2 MB/s eta 0:00:01\n",
      "   -------------------------- ------------- 6.3/9.6 MB 15.0 MB/s eta 0:00:01\n",
      "   ------------------------------ --------- 7.4/9.6 MB 15.8 MB/s eta 0:00:01\n",
      "   ----------------------------------- ---- 8.6/9.6 MB 16.6 MB/s eta 0:00:01\n",
      "   ---------------------------------------  9.6/9.6 MB 17.0 MB/s eta 0:00:01\n",
      "   ---------------------------------------- 9.6/9.6 MB 15.7 MB/s eta 0:00:00\n",
      "Installing collected packages: qiskit-aer\n",
      "Successfully installed qiskit-aer-0.12.2\n",
      "Note: you may need to restart the kernel to use updated packages.\n"
     ]
    }
   ],
   "source": [
    "pip install qiskit-aer"
   ],
   "metadata": {
    "collapsed": false,
    "ExecuteTime": {
     "end_time": "2023-08-29T16:38:58.037915800Z",
     "start_time": "2023-08-29T16:38:50.008578900Z"
    }
   },
   "id": "f68456f496d5293f"
  },
  {
   "cell_type": "code",
   "execution_count": null,
   "outputs": [],
   "source": [
    "#importamos los modulos necesarios\n",
    "from qiskit import IBMQ, QuantumCircuit, ClassicalRegister, QuantumRegister\n",
    "from qiskit import execute, QuantumRegister\n",
    "from qiskit.qasm import pi\n",
    "from qiskit.tools.visualization import plot_histogram, circuit_drawer\n",
    "from qiskit import execute, Aer, BasicAer\n",
    "import numpy as np\n",
    "import random\n",
    "import keras\n",
    "from keras.models import Sequential\n",
    "from keras.layers import Dense, Activation\n",
    "from keras.datasets import mnist\n",
    "import matplotlib.pyplot as plt\n",
    "from sklearn.metrics import mean_squared_error, mean_absolute_error, mutual_info_score, r2_score\n",
    "from qiskit.circuit.library.standard_gates import RYGate, RYYGate\n",
    "import cv2\n",
    "import pandas as pd"
   ],
   "metadata": {
    "collapsed": false
   },
   "id": "2713cb7f0c04c226"
  },
  {
   "cell_type": "markdown",
   "source": [
    "# Circuito cuantico para FRQI \n",
    "#### En la implementacion de FRQI, el metodo lo podemos dividir en 3 partes\n",
    "#### 1. La super posicion de los pixeles en los qubits  \n",
    "#### 2. El uso de X-Gates para cambiar la posicion de los pixeles en los qubits\n",
    "#### 3. La aplicacion de $C^{n}(R_{y}(θ))$"
   ],
   "metadata": {
    "collapsed": false
   },
   "id": "dd879c70bb3c5949"
  },
  {
   "cell_type": "code",
   "execution_count": 12,
   "id": "5add7a6c-b3d1-4d41-ab93-84bd5dd089d9",
   "metadata": {
    "ExecuteTime": {
     "end_time": "2023-08-29T16:08:43.018515700Z",
     "start_time": "2023-08-29T16:08:43.018515700Z"
    }
   },
   "outputs": [],
   "source": [
    "# En este codigo aplicacmos la compuerta hadamard al pixel \"n\"\n",
    "def hadamard(circ, n):\n",
    "  for i in n:\n",
    "    circ.h(i)"
   ]
  },
  {
   "cell_type": "markdown",
   "source": [
    "# Cambio de pixeles"
   ],
   "metadata": {
    "collapsed": false
   },
   "id": "d69881b05f3c2b3c"
  },
  {
   "cell_type": "code",
   "execution_count": 13,
   "outputs": [],
   "source": [
    "\n",
    "# This function let us know which are the qubits that need to be applied  \n",
    "# the X-gate so we can change the state of the pixels positions qubits\n",
    "# to the new state.\n",
    "def change(state, new_state):\n",
    "  n = len(state)  # n is the length of the binary string\n",
    "  c = np.array([])  # create an empty array\n",
    "  for i in range(n):  # start to iterate n times\n",
    "    if state[i] != new_state[i]:  # here we check if the position i in the \n",
    "                                  # binary string is different\n",
    "      c = np.append(c, int(i))\n",
    "\n",
    "  if len(c) > 0:\n",
    "    return c.astype(int)\n",
    "  else:\n",
    "    return c"
   ],
   "metadata": {
    "collapsed": false,
    "ExecuteTime": {
     "end_time": "2023-08-29T16:09:45.619041400Z",
     "start_time": "2023-08-29T16:09:45.594683900Z"
    }
   },
   "id": "ba55e8c32c259966"
  },
  {
   "cell_type": "code",
   "execution_count": 18,
   "outputs": [],
   "source": [
    "# This function applies the X-gates to the corresponding qubits given by \n",
    "# the change function\n",
    "def binary(circ, state, new_state):\n",
    "  # state is the string in binary format that tells us the actual state of the pixels\n",
    "  # state = '000000'\n",
    "  c = change(state, new_state)\n",
    "  if len(c) > 0:\n",
    "    # Modified section. Added the -1 and the np.abs\n",
    "    circ.x(np.abs(c-5))\n",
    "  else: \n",
    "    pass"
   ],
   "metadata": {
    "collapsed": false,
    "ExecuteTime": {
     "end_time": "2023-08-29T16:12:11.407845100Z",
     "start_time": "2023-08-29T16:12:11.400456Z"
    }
   },
   "id": "4e8ae780304c800b"
  },
  {
   "cell_type": "markdown",
   "source": [
    "### Aplicacion  de la compuerta $C^{n}(R_{y}(θ_i))$ \n",
    "Mientras estamos iterando en la posición del píxel tenemos que aplicar el $C^{n}(R_{y}(θ))$. Una vez que cambiamos el estado de los qubits a la posición de píxel correspondiente, aplicamos el $C^{n}(R_{y}(θ_i))$ respectivo, donde $\\theta_{i}$ denota el valor de escala de grises (0 a 255) del píxel $i$ respectivo."
   ],
   "metadata": {
    "collapsed": false
   },
   "id": "111d35a309d182bd"
  },
  {
   "cell_type": "code",
   "execution_count": 19,
   "outputs": [],
   "source": [
    "# This function applies the C^n(Ry) (controlled Ry gate) in the quantum circuit\n",
    "# \"circ\" using the vector \"n\" for the controlled qubits and the variable \"t\" for\n",
    "# the target qubit, and \"theta\" for the angle in the rotation. \n",
    "def cnri(circ, n, t, theta):\n",
    "  #rq = circuit.qubits\n",
    "  controls = len(n)\n",
    "  cry = RYGate(2*theta).control(controls)\n",
    "  aux = np.append(n, t).tolist()\n",
    "  circ.append(cry, aux)"
   ],
   "metadata": {
    "collapsed": false,
    "ExecuteTime": {
     "end_time": "2023-08-29T16:18:06.002662300Z",
     "start_time": "2023-08-29T16:18:05.982507900Z"
    }
   },
   "id": "fece0c7c108c6dc3"
  },
  {
   "cell_type": "code",
   "execution_count": 38,
   "outputs": [],
   "source": [
    "# The frqi function calls all of the aleady defined function to fully implement\n",
    "# The FRQI method over the quantum circuit \"circ\", with the vector of controlled\n",
    "# qubits \"n\", the target qubit \"t\" and the angles of each pixel in the image.\n",
    "def frqi(circ,n ,t, angles):\n",
    "  hadamard(circ, n)\n",
    "  j = 0\n",
    "  for i in angles:\n",
    "    state = '{0:06b}'.format(j-1)\n",
    "    new_state = '{0:06b}'.format(j)\n",
    "    if j == 0:\n",
    "      cnri(circ, n, t, i)\n",
    "    else:\n",
    "      binary(circ, state, new_state)\n",
    "      cnri(circ, n, t, i)\n",
    "    j += 1\n",
    "    "
   ],
   "metadata": {
    "collapsed": false,
    "ExecuteTime": {
     "end_time": "2023-08-29T16:29:23.813356100Z",
     "start_time": "2023-08-29T16:29:23.798255600Z"
    }
   },
   "id": "82002e80f544ecb1"
  },
  {
   "cell_type": "markdown",
   "source": [
    "## Conjunto de datos de MNIST\n",
    "\n",
    "En esta sección sólo vamos a descargar el conjunto de datos MNIST para poder utilizar una de las imágenes para la codificación y la recuperación."
   ],
   "metadata": {
    "collapsed": false
   },
   "id": "59295555e359a1dc"
  },
  {
   "cell_type": "code",
   "execution_count": 21,
   "outputs": [],
   "source": [
    "# Read the csv file\n",
    "dataset = pd.read_csv('mnist-resized.csv')"
   ],
   "metadata": {
    "collapsed": false,
    "ExecuteTime": {
     "end_time": "2023-08-29T16:21:22.436514300Z",
     "start_time": "2023-08-29T16:21:22.187375100Z"
    }
   },
   "id": "e5d8e93fb37f6d8b"
  },
  {
   "cell_type": "code",
   "execution_count": 22,
   "outputs": [],
   "source": [
    "# Reshape and transform the dataframe into a numpy array\n",
    "images = dataset.to_numpy()[:,1:].reshape(42000,8,8)"
   ],
   "metadata": {
    "collapsed": false,
    "ExecuteTime": {
     "end_time": "2023-08-29T16:21:41.649636500Z",
     "start_time": "2023-08-29T16:21:41.648130800Z"
    }
   },
   "id": "51716aa0e2c26043"
  },
  {
   "cell_type": "code",
   "execution_count": 23,
   "outputs": [],
   "source": [
    "# Reshape the array\n",
    "pixel_values = images.reshape(42000,64)"
   ],
   "metadata": {
    "collapsed": false,
    "ExecuteTime": {
     "end_time": "2023-08-29T16:21:52.862734300Z",
     "start_time": "2023-08-29T16:21:52.846349900Z"
    }
   },
   "id": "5c441b7ffc19a2cd"
  },
  {
   "cell_type": "code",
   "execution_count": 29,
   "outputs": [
    {
     "data": {
      "text/plain": "<matplotlib.image.AxesImage at 0x27cfab191d0>"
     },
     "execution_count": 29,
     "metadata": {},
     "output_type": "execute_result"
    },
    {
     "data": {
      "text/plain": "<Figure size 640x480 with 1 Axes>",
      "image/png": "[encoded data removed]"
     },
     "metadata": {},
     "output_type": "display_data"
    }
   ],
   "source": [
    "# Plot an image to see if the changes made are right \n",
    "plt.imshow(images[0,:], cmap='Greys')"
   ],
   "metadata": {
    "collapsed": false,
    "ExecuteTime": {
     "end_time": "2023-08-29T16:22:54.350244200Z",
     "start_time": "2023-08-29T16:22:54.158189700Z"
    }
   },
   "id": "ba011b33af6c54fc"
  },
  {
   "cell_type": "code",
   "execution_count": 65,
   "outputs": [
    {
     "name": "stdout",
     "output_type": "stream",
     "text": [
      "[[0.         0.         0.         0.         0.         0.\n",
      "  0.         0.        ]\n",
      " [0.         0.         0.         0.         0.         1.57079633\n",
      "  1.57079633 0.        ]\n",
      " [0.         0.         0.         0.         1.57079633 1.57079633\n",
      "  0.         0.        ]\n",
      " [0.         0.         0.         1.57079633 1.57079633 0.\n",
      "  0.         0.        ]\n",
      " [0.         0.         0.         1.57079633 1.57079633 0.\n",
      "  0.         0.        ]\n",
      " [0.         0.         1.57079633 1.57079633 0.         0.\n",
      "  0.         0.        ]\n",
      " [0.         0.         1.57079633 1.57079633 0.         0.\n",
      "  0.         0.        ]\n",
      " [0.         0.         0.         0.         0.         0.\n",
      "  0.         0.        ]]\n"
     ]
    }
   ],
   "source": [
    "# Plot an image to see if the changes made are right \n",
    "# Transform the normalized values into angles before we introduce them into \n",
    "# the Ry rotations\n",
    "## Clip the values to the range [-1, 1]\n",
    "angles = np.arcsin(np.clip(images[0,:], -1, 1))\n",
    "# Print the angles\n",
    "print(angles)"
   ],
   "metadata": {
    "collapsed": false,
    "ExecuteTime": {
     "end_time": "2023-08-29T16:42:33.180315100Z",
     "start_time": "2023-08-29T16:42:33.145665Z"
    }
   },
   "id": "6c84b7e109a1326f"
  },
  {
   "cell_type": "markdown",
   "source": [
    "###  Quantum encoding and retrieval of image "
   ],
   "metadata": {
    "collapsed": false
   },
   "id": "d34f5fa27b2cef60"
  },
  {
   "cell_type": "code",
   "execution_count": 44,
   "outputs": [],
   "source": [
    "# Declare the Quantum and Classical registers\n",
    "qr = QuantumRegister(7,'q')\n",
    "cr = ClassicalRegister(7,'c')"
   ],
   "metadata": {
    "collapsed": false,
    "ExecuteTime": {
     "end_time": "2023-08-29T16:36:13.505981900Z",
     "start_time": "2023-08-29T16:36:13.496447Z"
    }
   },
   "id": "cded898e6fd316fa"
  },
  {
   "cell_type": "code",
   "execution_count": 45,
   "outputs": [],
   "source": [
    "# Build a quantum circuit\n",
    "qc = QuantumCircuit(qr,cr)"
   ],
   "metadata": {
    "collapsed": false,
    "ExecuteTime": {
     "end_time": "2023-08-29T16:36:14.012995100Z",
     "start_time": "2023-08-29T16:36:13.985594700Z"
    }
   },
   "id": "8795caaa07d38a08"
  },
  {
   "cell_type": "code",
   "execution_count": 48,
   "outputs": [
    {
     "ename": "CircuitError",
     "evalue": "\"Invalid param type <class 'numpy.ndarray'> for gate ry.\"",
     "output_type": "error",
     "traceback": [
      "\u001B[1;31m---------------------------------------------------------------------------\u001B[0m",
      "\u001B[1;31mCircuitError\u001B[0m                              Traceback (most recent call last)",
      "Cell \u001B[1;32mIn[48], line 3\u001B[0m\n\u001B[0;32m      1\u001B[0m \u001B[38;5;66;03m# Call the frqi function and add all the necessary parameters\u001B[39;00m\n\u001B[0;32m      2\u001B[0m matrix \u001B[38;5;241m=\u001B[39m [\u001B[38;5;241m0\u001B[39m,\u001B[38;5;241m1\u001B[39m,\u001B[38;5;241m2\u001B[39m,\u001B[38;5;241m3\u001B[39m,\u001B[38;5;241m4\u001B[39m,\u001B[38;5;241m5\u001B[39m]\n\u001B[1;32m----> 3\u001B[0m \u001B[43mfrqi\u001B[49m\u001B[43m(\u001B[49m\u001B[43mqc\u001B[49m\u001B[43m,\u001B[49m\u001B[43m \u001B[49m\u001B[43mmatrix\u001B[49m\u001B[43m,\u001B[49m\u001B[43m \u001B[49m\u001B[38;5;241;43m6\u001B[39;49m\u001B[43m,\u001B[49m\u001B[43m \u001B[49m\u001B[43mangles\u001B[49m\u001B[43m)\u001B[49m\n",
      "Cell \u001B[1;32mIn[38], line 11\u001B[0m, in \u001B[0;36mfrqi\u001B[1;34m(circ, n, t, angles)\u001B[0m\n\u001B[0;32m      9\u001B[0m new_state \u001B[38;5;241m=\u001B[39m \u001B[38;5;124m'\u001B[39m\u001B[38;5;132;01m{0:06b}\u001B[39;00m\u001B[38;5;124m'\u001B[39m\u001B[38;5;241m.\u001B[39mformat(j)\n\u001B[0;32m     10\u001B[0m \u001B[38;5;28;01mif\u001B[39;00m j \u001B[38;5;241m==\u001B[39m \u001B[38;5;241m0\u001B[39m:\n\u001B[1;32m---> 11\u001B[0m   \u001B[43mcnri\u001B[49m\u001B[43m(\u001B[49m\u001B[43mcirc\u001B[49m\u001B[43m,\u001B[49m\u001B[43m \u001B[49m\u001B[43mn\u001B[49m\u001B[43m,\u001B[49m\u001B[43m \u001B[49m\u001B[43mt\u001B[49m\u001B[43m,\u001B[49m\u001B[43m \u001B[49m\u001B[43mi\u001B[49m\u001B[43m)\u001B[49m\n\u001B[0;32m     12\u001B[0m \u001B[38;5;28;01melse\u001B[39;00m:\n\u001B[0;32m     13\u001B[0m   binary(circ, state, new_state)\n",
      "Cell \u001B[1;32mIn[19], line 7\u001B[0m, in \u001B[0;36mcnri\u001B[1;34m(circ, n, t, theta)\u001B[0m\n\u001B[0;32m      4\u001B[0m \u001B[38;5;28;01mdef\u001B[39;00m \u001B[38;5;21mcnri\u001B[39m(circ, n, t, theta):\n\u001B[0;32m      5\u001B[0m   \u001B[38;5;66;03m#rq = circuit.qubits\u001B[39;00m\n\u001B[0;32m      6\u001B[0m   controls \u001B[38;5;241m=\u001B[39m \u001B[38;5;28mlen\u001B[39m(n)\n\u001B[1;32m----> 7\u001B[0m   cry \u001B[38;5;241m=\u001B[39m \u001B[43mRYGate\u001B[49m\u001B[43m(\u001B[49m\u001B[38;5;241;43m2\u001B[39;49m\u001B[38;5;241;43m*\u001B[39;49m\u001B[43mtheta\u001B[49m\u001B[43m)\u001B[49m\u001B[38;5;241m.\u001B[39mcontrol(controls)\n\u001B[0;32m      8\u001B[0m   aux \u001B[38;5;241m=\u001B[39m np\u001B[38;5;241m.\u001B[39mappend(n, t)\u001B[38;5;241m.\u001B[39mtolist()\n\u001B[0;32m      9\u001B[0m   circ\u001B[38;5;241m.\u001B[39mappend(cry, aux)\n",
      "File \u001B[1;32m~\\AppData\\Roaming\\Python\\Python311\\site-packages\\qiskit\\circuit\\library\\standard_gates\\ry.py:54\u001B[0m, in \u001B[0;36mRYGate.__init__\u001B[1;34m(self, theta, label)\u001B[0m\n\u001B[0;32m     52\u001B[0m \u001B[38;5;28;01mdef\u001B[39;00m \u001B[38;5;21m__init__\u001B[39m(\u001B[38;5;28mself\u001B[39m, theta: ParameterValueType, label: Optional[\u001B[38;5;28mstr\u001B[39m] \u001B[38;5;241m=\u001B[39m \u001B[38;5;28;01mNone\u001B[39;00m):\n\u001B[0;32m     53\u001B[0m \u001B[38;5;250m    \u001B[39m\u001B[38;5;124;03m\"\"\"Create new RY gate.\"\"\"\u001B[39;00m\n\u001B[1;32m---> 54\u001B[0m     \u001B[38;5;28;43msuper\u001B[39;49m\u001B[43m(\u001B[49m\u001B[43m)\u001B[49m\u001B[38;5;241;43m.\u001B[39;49m\u001B[38;5;21;43m__init__\u001B[39;49m\u001B[43m(\u001B[49m\u001B[38;5;124;43m\"\u001B[39;49m\u001B[38;5;124;43mry\u001B[39;49m\u001B[38;5;124;43m\"\u001B[39;49m\u001B[43m,\u001B[49m\u001B[43m \u001B[49m\u001B[38;5;241;43m1\u001B[39;49m\u001B[43m,\u001B[49m\u001B[43m \u001B[49m\u001B[43m[\u001B[49m\u001B[43mtheta\u001B[49m\u001B[43m]\u001B[49m\u001B[43m,\u001B[49m\u001B[43m \u001B[49m\u001B[43mlabel\u001B[49m\u001B[38;5;241;43m=\u001B[39;49m\u001B[43mlabel\u001B[49m\u001B[43m)\u001B[49m\n",
      "File \u001B[1;32m~\\AppData\\Roaming\\Python\\Python311\\site-packages\\qiskit\\circuit\\gate.py:37\u001B[0m, in \u001B[0;36mGate.__init__\u001B[1;34m(self, name, num_qubits, params, label)\u001B[0m\n\u001B[0;32m     28\u001B[0m \u001B[38;5;250m\u001B[39m\u001B[38;5;124;03m\"\"\"Create a new gate.\u001B[39;00m\n\u001B[0;32m     29\u001B[0m \n\u001B[0;32m     30\u001B[0m \u001B[38;5;124;03mArgs:\u001B[39;00m\n\u001B[1;32m   (...)\u001B[0m\n\u001B[0;32m     34\u001B[0m \u001B[38;5;124;03m    label: An optional label for the gate.\u001B[39;00m\n\u001B[0;32m     35\u001B[0m \u001B[38;5;124;03m\"\"\"\u001B[39;00m\n\u001B[0;32m     36\u001B[0m \u001B[38;5;28mself\u001B[39m\u001B[38;5;241m.\u001B[39mdefinition \u001B[38;5;241m=\u001B[39m \u001B[38;5;28;01mNone\u001B[39;00m\n\u001B[1;32m---> 37\u001B[0m \u001B[38;5;28;43msuper\u001B[39;49m\u001B[43m(\u001B[49m\u001B[43m)\u001B[49m\u001B[38;5;241;43m.\u001B[39;49m\u001B[38;5;21;43m__init__\u001B[39;49m\u001B[43m(\u001B[49m\u001B[43mname\u001B[49m\u001B[43m,\u001B[49m\u001B[43m \u001B[49m\u001B[43mnum_qubits\u001B[49m\u001B[43m,\u001B[49m\u001B[43m \u001B[49m\u001B[38;5;241;43m0\u001B[39;49m\u001B[43m,\u001B[49m\u001B[43m \u001B[49m\u001B[43mparams\u001B[49m\u001B[43m,\u001B[49m\u001B[43m \u001B[49m\u001B[43mlabel\u001B[49m\u001B[38;5;241;43m=\u001B[39;49m\u001B[43mlabel\u001B[49m\u001B[43m)\u001B[49m\n",
      "File \u001B[1;32m~\\AppData\\Roaming\\Python\\Python311\\site-packages\\qiskit\\circuit\\instruction.py:105\u001B[0m, in \u001B[0;36mInstruction.__init__\u001B[1;34m(self, name, num_qubits, num_clbits, params, duration, unit, label)\u001B[0m\n\u001B[0;32m    102\u001B[0m \u001B[38;5;28mself\u001B[39m\u001B[38;5;241m.\u001B[39m_duration \u001B[38;5;241m=\u001B[39m duration\n\u001B[0;32m    103\u001B[0m \u001B[38;5;28mself\u001B[39m\u001B[38;5;241m.\u001B[39m_unit \u001B[38;5;241m=\u001B[39m unit\n\u001B[1;32m--> 105\u001B[0m \u001B[38;5;28;43mself\u001B[39;49m\u001B[38;5;241;43m.\u001B[39;49m\u001B[43mparams\u001B[49m \u001B[38;5;241m=\u001B[39m params\n",
      "File \u001B[1;32m~\\AppData\\Roaming\\Python\\Python311\\site-packages\\qiskit\\circuit\\instruction.py:223\u001B[0m, in \u001B[0;36mInstruction.params\u001B[1;34m(self, parameters)\u001B[0m\n\u001B[0;32m    221\u001B[0m     \u001B[38;5;28mself\u001B[39m\u001B[38;5;241m.\u001B[39m_params\u001B[38;5;241m.\u001B[39mappend(single_param)\n\u001B[0;32m    222\u001B[0m \u001B[38;5;28;01melse\u001B[39;00m:\n\u001B[1;32m--> 223\u001B[0m     \u001B[38;5;28mself\u001B[39m\u001B[38;5;241m.\u001B[39m_params\u001B[38;5;241m.\u001B[39mappend(\u001B[38;5;28;43mself\u001B[39;49m\u001B[38;5;241;43m.\u001B[39;49m\u001B[43mvalidate_parameter\u001B[49m\u001B[43m(\u001B[49m\u001B[43msingle_param\u001B[49m\u001B[43m)\u001B[49m)\n",
      "File \u001B[1;32m~\\AppData\\Roaming\\Python\\Python311\\site-packages\\qiskit\\circuit\\gate.py:235\u001B[0m, in \u001B[0;36mGate.validate_parameter\u001B[1;34m(self, parameter)\u001B[0m\n\u001B[0;32m    233\u001B[0m     \u001B[38;5;28;01mreturn\u001B[39;00m parameter\u001B[38;5;241m.\u001B[39mitem()\n\u001B[0;32m    234\u001B[0m \u001B[38;5;28;01melse\u001B[39;00m:\n\u001B[1;32m--> 235\u001B[0m     \u001B[38;5;28;01mraise\u001B[39;00m CircuitError(\u001B[38;5;124mf\u001B[39m\u001B[38;5;124m\"\u001B[39m\u001B[38;5;124mInvalid param type \u001B[39m\u001B[38;5;132;01m{\u001B[39;00m\u001B[38;5;28mtype\u001B[39m(parameter)\u001B[38;5;132;01m}\u001B[39;00m\u001B[38;5;124m for gate \u001B[39m\u001B[38;5;132;01m{\u001B[39;00m\u001B[38;5;28mself\u001B[39m\u001B[38;5;241m.\u001B[39mname\u001B[38;5;132;01m}\u001B[39;00m\u001B[38;5;124m.\u001B[39m\u001B[38;5;124m\"\u001B[39m)\n",
      "\u001B[1;31mCircuitError\u001B[0m: \"Invalid param type <class 'numpy.ndarray'> for gate ry.\""
     ]
    }
   ],
   "source": [
    "# Call the frqi function and add all the necessary parameters\n",
    "matrix = [0,1,2,3,4,5]\n",
    "frqi(qc, matrix, 6, angles)"
   ],
   "metadata": {
    "collapsed": false,
    "ExecuteTime": {
     "end_time": "2023-08-29T16:37:49.468734300Z",
     "start_time": "2023-08-29T16:37:49.378000500Z"
    }
   },
   "id": "f5fa887bff26cd38"
  },
  {
   "cell_type": "code",
   "execution_count": 49,
   "outputs": [
    {
     "data": {
      "text/plain": "<Figure size 287.496x702.333 with 1 Axes>",
      "image/png": "[encoded data removed]"
     },
     "execution_count": 49,
     "metadata": {},
     "output_type": "execute_result"
    }
   ],
   "source": [
    "# (Optional) We Can see how the quantum circuit is structured using qc.draw()\n",
    "qc.draw(output = 'mpl')"
   ],
   "metadata": {
    "collapsed": false,
    "ExecuteTime": {
     "end_time": "2023-08-29T16:37:53.449182Z",
     "start_time": "2023-08-29T16:37:53.263620800Z"
    }
   },
   "id": "97130251d740d982"
  },
  {
   "cell_type": "code",
   "execution_count": 50,
   "outputs": [
    {
     "data": {
      "text/plain": "<qiskit.circuit.instructionset.InstructionSet at 0x27cfc326e90>"
     },
     "execution_count": 50,
     "metadata": {},
     "output_type": "execute_result"
    }
   ],
   "source": [
    "# Measure all the qubits in the quantum circuit\n",
    "qc.measure([0,1,2,3,4,5,6],[0,1,2,3,4,5,6])"
   ],
   "metadata": {
    "collapsed": false,
    "ExecuteTime": {
     "end_time": "2023-08-29T16:38:07.378877800Z",
     "start_time": "2023-08-29T16:38:07.346584Z"
    }
   },
   "id": "9e61521e521306a0"
  },
  {
   "cell_type": "code",
   "execution_count": 53,
   "outputs": [],
   "source": [
    "# Create our backend to run the quantum simulation\n",
    "backend_sim = Aer.get_backend('qasm_simulator')\n",
    "numOfShots = 1048576\n",
    "result = execute(qc, backend_sim, shots=numOfShots).result()"
   ],
   "metadata": {
    "collapsed": false,
    "ExecuteTime": {
     "end_time": "2023-08-29T16:39:14.132189900Z",
     "start_time": "2023-08-29T16:39:08.333267900Z"
    }
   },
   "id": "e2f795d9aba63134"
  },
  {
   "cell_type": "code",
   "execution_count": 54,
   "outputs": [
    {
     "name": "stdout",
     "output_type": "stream",
     "text": [
      "{'0000000': 1048576}\n"
     ]
    }
   ],
   "source": [
    "# (Optional) Print the results of the measurements\n",
    "print(result.get_counts(qc)) "
   ],
   "metadata": {
    "collapsed": false,
    "ExecuteTime": {
     "end_time": "2023-08-29T16:40:51.144684500Z",
     "start_time": "2023-08-29T16:40:51.115200700Z"
    }
   },
   "id": "ce4ad755ef7b3ffd"
  },
  {
   "cell_type": "code",
   "execution_count": 55,
   "outputs": [
    {
     "data": {
      "text/plain": "<Figure size 2000x700 with 1 Axes>",
      "image/png": "[encoded data removed]"
     },
     "execution_count": 55,
     "metadata": {},
     "output_type": "execute_result"
    }
   ],
   "source": [
    "# (Optional) Print the results of the measurements as histogram\n",
    "plot_histogram(result.get_counts(qc), figsize=(20,7))"
   ],
   "metadata": {
    "collapsed": false,
    "ExecuteTime": {
     "end_time": "2023-08-29T16:40:59.370559300Z",
     "start_time": "2023-08-29T16:40:59.267547400Z"
    }
   },
   "id": "28b34864fcec553e"
  },
  {
   "cell_type": "code",
   "execution_count": 56,
   "outputs": [],
   "source": [
    "# Create an empty array to save the retrieved image\n",
    "retrieve_image = np.array([])"
   ],
   "metadata": {
    "collapsed": false,
    "ExecuteTime": {
     "end_time": "2023-08-29T16:41:06.863390600Z",
     "start_time": "2023-08-29T16:41:06.817859300Z"
    }
   },
   "id": "7a5befa779e9e238"
  },
  {
   "cell_type": "code",
   "execution_count": 57,
   "outputs": [],
   "source": [
    "# We iterate over all the pixels and obtain the proability results for each one of them\n",
    "# Notice that we compute the ratio of the white states, and only if the values are 0\n",
    "# we make an exception and turn that pixel 0\n",
    "for i in range(64):\n",
    "  try:\n",
    "    s = format(i, '06b')\n",
    "    new_s = '1' + s\n",
    "    retrieve_image = np.append(retrieve_image,np.sqrt(result.get_counts(qc)[new_s]/numOfShots))\n",
    "  except KeyError:\n",
    "    retrieve_image = np.append(retrieve_image,[0.0])"
   ],
   "metadata": {
    "collapsed": false,
    "ExecuteTime": {
     "end_time": "2023-08-29T16:41:12.218543700Z",
     "start_time": "2023-08-29T16:41:12.185665800Z"
    }
   },
   "id": "b0a017c5d1175856"
  },
  {
   "cell_type": "code",
   "execution_count": 58,
   "outputs": [],
   "source": [
    "# We make the inverse nomalization\n",
    "retrieve_image *=  8.0*255.0"
   ],
   "metadata": {
    "collapsed": false,
    "ExecuteTime": {
     "end_time": "2023-08-29T16:41:20.563629600Z",
     "start_time": "2023-08-29T16:41:20.524530Z"
    }
   },
   "id": "9c8014b04375e5a5"
  },
  {
   "cell_type": "code",
   "execution_count": 59,
   "outputs": [],
   "source": [
    "# Turn the array into a type int\n",
    "retrieve_image = retrieve_image.astype('int')"
   ],
   "metadata": {
    "collapsed": false,
    "ExecuteTime": {
     "end_time": "2023-08-29T16:41:26.248330600Z",
     "start_time": "2023-08-29T16:41:26.211975500Z"
    }
   },
   "id": "3e878dc9808b1074"
  },
  {
   "cell_type": "code",
   "execution_count": 60,
   "outputs": [],
   "source": [
    "# Reshape the array into a 8x8 matrix\n",
    "retrieve_image = retrieve_image.reshape((8,8))"
   ],
   "metadata": {
    "collapsed": false,
    "ExecuteTime": {
     "end_time": "2023-08-29T16:41:32.488260200Z",
     "start_time": "2023-08-29T16:41:32.459512400Z"
    }
   },
   "id": "c17439f360af028d"
  },
  {
   "cell_type": "code",
   "execution_count": 61,
   "outputs": [
    {
     "data": {
      "text/plain": "<Figure size 640x480 with 1 Axes>",
      "image/png": "[encoded data removed]"
     },
     "metadata": {},
     "output_type": "display_data"
    }
   ],
   "source": [
    "# Plot the retrieved image to see if it is the same as the one encoded\n",
    "plt.imshow(retrieve_image, cmap='gray', vmin=0, vmax=255)\n",
    "plt.show()"
   ],
   "metadata": {
    "collapsed": false,
    "ExecuteTime": {
     "end_time": "2023-08-29T16:41:39.279140200Z",
     "start_time": "2023-08-29T16:41:39.148993700Z"
    }
   },
   "id": "6154fbb673e0f17d"
  },
  {
   "cell_type": "code",
   "execution_count": null,
   "outputs": [],
   "source": [],
   "metadata": {
    "collapsed": false
   },
   "id": "508c563f08589b15"
  }
 ],
 "metadata": {
  "kernelspec": {
   "display_name": "Python 3 (ipykernel)",
   "language": "python",
   "name": "python3"
  },
  "language_info": {
   "codemirror_mode": {
    "name": "ipython",
    "version": 3
   },
   "file_extension": ".py",
   "mimetype": "text/x-python",
   "name": "python",
   "nbconvert_exporter": "python",
   "pygments_lexer": "ipython3",
   "version": "3.11.3"
  }
 },
 "nbformat": 4,
 "nbformat_minor": 5
}
